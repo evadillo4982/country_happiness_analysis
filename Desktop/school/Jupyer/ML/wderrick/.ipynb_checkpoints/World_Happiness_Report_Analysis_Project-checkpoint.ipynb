{
 "cells": [
  {
   "cell_type": "markdown",
   "id": "d7abc3ac",
   "metadata": {},
   "source": [
    "# World Happiness Report - Data Analysis Project (Review)\n",
    "\n",
    "Welcome to this multi-day data analysis project! In this lab, you'll practice data analyst skills using the **World Happiness Report** dataset (https://www.kaggle.com/datasets/unsdsn/world-happiness). You'll go through the entire data analysis workflow: loading the data, cleaning it, exploring it, analyzing correlations, visualizing results, and summarizing insights.\n",
    "\n",
    "This project is designed for beginners, so we'll guide you with step-by-step instructions and hints. However, try to think critically and attempt each step on your own before revealing any provided solutions. The goal is to help you become comfortable with the data analysis process and with using Python libraries like pandas, matplotlib, and seaborn."
   ]
  },
  {
   "cell_type": "markdown",
   "id": "ac48549d",
   "metadata": {},
   "source": [
    "## Step 1: Load and Inspect the Dataset\n",
    "\n",
    "First, let's load the World Happiness Report dataset and do some initial inspection of the data.\n",
    "The dataset can be downloaded from Kaggle. Make sure you have the CSV file in your working directory.\n",
    "\n",
    "**Tasks:**\n",
    "- Import the necessary libraries (pandas, matplotlib, seaborn).\n",
    "- Load the dataset into a pandas DataFrame. (Use `pd.read_csv()` and the file name of the dataset.)\n",
    "- Display the first few rows of the DataFrame to verify it loaded correctly (`DataFrame.head()`).\n",
    "- Display the shape of the DataFrame (number of rows and columns) to understand the dataset size.\n",
    "- (Optional) Display basic info about the DataFrame (`DataFrame.info()`) to see the data types and non-null counts.\n"
   ]
  },
  {
   "cell_type": "code",
   "execution_count": null,
   "id": "bb1b9b9c",
   "metadata": {},
   "outputs": [],
   "source": [
    "# Import necessary libraries\n",
    "import pandas as pd\n",
    "import matplotlib.pyplot as plt\n",
    "import seaborn as sns\n",
    "\n",
    "# Load the dataset\n",
    "# Note: replace 'PATH/TO/DATAFILE.csv' with the actual filename (e.g., 'world_happiness.csv' or '2019.csv').\n",
    "# For example, if the file is named 'world_happiness.csv':\n",
    "# happiness_df = pd.read_csv('world_happiness.csv')\n",
    "happiness_df = pd.read_csv('PATH/TO/DATAFILE.csv')\n",
    "\n",
    "# Inspect the first few rows\n",
    "happiness_df.head()"
   ]
  },
  {
   "cell_type": "code",
   "execution_count": null,
   "id": "4f4ac24e",
   "metadata": {},
   "outputs": [],
   "source": [
    "# Check the size of the DataFrame (rows, columns)\n",
    "happiness_df.shape\n",
    "\n",
    "# (Optional) view DataFrame info\n",
    "happiness_df.info()"
   ]
  },
  {
   "cell_type": "markdown",
   "id": "b26ae0c2",
   "metadata": {},
   "source": [
    "## Step 2: Data Cleaning\n",
    "\n",
    "Now that the data is loaded, it's time to clean it if necessary. Data cleaning ensures that our dataset is ready for analysis (no missing or inconsistent values, etc.).\n",
    "\n",
    "**Tasks:**\n",
    "- Check for missing values in the dataset.\n",
    "  - Use functions like `isnull().sum()` to see if any columns have missing entries.\n",
    "- If there are missing values, decide how to handle them. (For example, you might drop rows or fill them with an appropriate value.)\n",
    "- Check for duplicate rows in the dataset and remove them if any.\n",
    "- Make sure the columns have appropriate data types (for example, numerical columns should be `int` or `float`, not strings).\n",
    "- (Optional) If the dataset contains multiple years or if you have separate data files per year, you might combine them into one DataFrame and add a `Year` column. (This is an advanced step; only do this if you want to analyze trends over time.)\n",
    "\n",
    "**Hint:** The World Happiness Report data is usually pretty clean. But it's always good to verify! If there's a column like `Country or region` and another like `Country` in different files, you may want to rename columns for consistency before combining data."
   ]
  },
  {
   "cell_type": "code",
   "execution_count": null,
   "id": "94522b60",
   "metadata": {},
   "outputs": [],
   "source": [
    "# Check for missing values in each column\n",
    "happiness_df.isnull().sum()\n",
    "\n",
    "# If missing values are present, handle them (e.g., drop or fill).\n",
    "# Example: to drop rows with any missing values, you could do:\n",
    "# happiness_df = happiness_df.dropna()\n",
    "\n",
    "# Check for duplicate rows\n",
    "duplicate_count = happiness_df.duplicated().sum()\n",
    "print(f\"Number of duplicate rows: {duplicate_count}\")\n",
    "# If duplicates exist, you can remove them:\n",
    "# happiness_df = happiness_df.drop_duplicates()\n",
    "\n",
    "# (Optional) If needed, convert data types or rename columns for consistency.\n",
    "# For example, if a column name has spaces or inconsistent naming across years, you might:\n",
    "# happiness_df.rename(columns={'Country or region': 'Country'}, inplace=True)"
   ]
  },
  {
   "cell_type": "markdown",
   "id": "01b873b6",
   "metadata": {},
   "source": [
    "## Step 3: Exploratory Data Analysis (EDA)\n",
    "\n",
    "Now, let's explore the data to understand the distributions and relationships within it. In this step, you'll compute summary statistics and answer some initial questions about the data.\n",
    "\n",
    "**Tasks:**\n",
    "- Calculate basic statistical measures for the numeric columns (e.g., using `DataFrame.describe()`). This gives you the mean, min, max, etc., for each factor.\n",
    "- Identify the range of happiness scores. What is the minimum and maximum happiness score? Which countries have these scores?\n",
    "- Find out how many unique countries (and, if applicable, regions) are in the dataset.\n",
    "- Determine the happiest and least happy countries in the data (top 5 and bottom 5 by happiness score).\n",
    "- (If your data spans multiple years) figure out how many years are covered and which year had the highest average happiness score.\n",
    "\n",
    "Try to answer these questions using pandas operations. For example, you might sort the DataFrame by the happiness score, or use functions like `idxmax()` to find the index of the max value in a column."
   ]
  },
  {
   "cell_type": "code",
   "execution_count": null,
   "id": "02c0ee22",
   "metadata": {},
   "outputs": [],
   "source": [
    "# Summary statistics for numeric columns\n",
    "happiness_df.describe()"
   ]
  },
  {
   "cell_type": "code",
   "execution_count": null,
   "id": "0457ef70",
   "metadata": {},
   "outputs": [],
   "source": [
    "# Find the country with the maximum happiness score\n",
    "max_score = happiness_df['Happiness Score'].max()\n",
    "max_score_country = happiness_df.loc[happiness_df['Happiness Score'].idxmax(), 'Country']\n",
    "print(f\"Highest Happiness Score: {max_score} (Country: {max_score_country})\")\n",
    "\n",
    "# Find the country with the minimum happiness score\n",
    "min_score = happiness_df['Happiness Score'].min()\n",
    "min_score_country = happiness_df.loc[happiness_df['Happiness Score'].idxmin(), 'Country']\n",
    "print(f\"Lowest Happiness Score: {min_score} (Country: {min_score_country})\")"
   ]
  },
  {
   "cell_type": "code",
   "execution_count": null,
   "id": "53c6fcff",
   "metadata": {},
   "outputs": [],
   "source": [
    "# List of top 5 happiest countries\n",
    "happiest_countries = happiness_df.sort_values('Happiness Score', ascending=False).head(5)\n",
    "print(\"Top 5 happiest countries:\")\n",
    "print(happiest_countries[['Country', 'Happiness Score']])\n",
    "\n",
    "# List of bottom 5 least happy countries\n",
    "least_happy_countries = happiness_df.sort_values('Happiness Score', ascending=True).head(5)\n",
    "print(\"\\nBottom 5 least happy countries:\")\n",
    "print(least_happy_countries[['Country', 'Happiness Score']])"
   ]
  },
  {
   "cell_type": "code",
   "execution_count": null,
   "id": "058e1324",
   "metadata": {},
   "outputs": [],
   "source": [
    "# (Optional) If a 'Region' column exists, you can explore average happiness by region:\n",
    "if 'Region' in happiness_df.columns:\n",
    "    region_group = happiness_df.groupby('Region')['Happiness Score'].mean().sort_values(ascending=False)\n",
    "    print(\"\\nAverage Happiness Score by Region:\\n\", region_group)\n",
    "\n",
    "# (Optional) If data includes multiple years, you can explore trends over years:\n",
    "if 'Year' in happiness_df.columns:\n",
    "    year_group = happiness_df.groupby('Year')['Happiness Score'].mean().sort_values(ascending=False)\n",
    "    print(\"\\nAverage Happiness Score by Year:\\n\", year_group)"
   ]
  },
  {
   "cell_type": "markdown",
   "id": "5ad7bc7e",
   "metadata": {},
   "source": [
    "## Step 4: Correlation Analysis\n",
    "\n",
    "Next, let's examine the relationships between different factors and happiness. We'll calculate the correlation between the happiness score and other variables (GDP, social support, etc.), as well as correlations among all numerical factors.\n",
    "\n",
    "**Tasks:**\n",
    "- Compute the correlation matrix for the numerical columns in the dataset (pandas `DataFrame.corr()` can be used).\n",
    "- Identify which factors have the strongest positive or negative correlation with the happiness score. Consider what these correlations mean.\n",
    "- Based on the correlations, which factors seem most important in contributing to happiness?\n",
    "- Create a heatmap using seaborn to visualize the correlation matrix. This will make it easier to see which variables are strongly or weakly correlated.\n",
    "\n",
    "**Hint:** A correlation value ranges from -1 to 1. Values close to 1 indicate a strong positive correlation (when one goes up, the other goes up), whereas values close to -1 indicate a strong negative correlation (when one goes up, the other goes down). Values near 0 mean no strong linear correlation."
   ]
  },
  {
   "cell_type": "code",
   "execution_count": null,
   "id": "b08b8de1",
   "metadata": {},
   "outputs": [],
   "source": [
    "# Compute correlation matrix for numerical columns\n",
    "corr_matrix = happiness_df.corr(numeric_only=True)\n",
    "corr_matrix"
   ]
  },
  {
   "cell_type": "code",
   "execution_count": null,
   "id": "c6ddceb0",
   "metadata": {},
   "outputs": [],
   "source": [
    "# Identify the correlations of each factor with the Happiness Score\n",
    "# (excluding the Score correlating with itself which is always 1)\n",
    "score_corr = corr_matrix['Happiness Score'].sort_values(ascending=False)\n",
    "print(\"Correlation of each factor with Happiness Score:\\n\", score_corr[1:], \"\\n\")  # [1:] to skip the first entry which is Score with itself\n",
    "\n",
    "# TODO: Visualize the correlation matrix with a heatmap for easier interpretation.\n",
    "# HINT: You can use sns.heatmap(corr_matrix, annot=True, cmap='YlGnBu') to create a heatmap.\n",
    "# (Don't forget to plt.show() to display it.)"
   ]
  },
  {
   "cell_type": "markdown",
   "id": "3cbd24c7",
   "metadata": {},
   "source": [
    "## Step 5: Data Visualization\n",
    "\n",
    "Now it's time to create some visualizations to further explore the data and present findings. Visualizing data can reveal patterns that aren't obvious from tables alone.\n",
    "\n",
    "**Tasks:**\n",
    "- Create a bar chart showing the top 10 happiest countries and their happiness scores.\n",
    "- (Optional) Create a bar chart for the bottom 10 (least happy) countries.\n",
    "- Plot a histogram or distribution plot of the happiness scores to see how scores are distributed across countries.\n",
    "- Create a scatter plot to examine the relationship between two factors and the happiness score. For example, plot GDP per capita vs. Happiness Score, or Social Support vs. Happiness Score.\n",
    "- (Optional) If a region column is available, create a chart (like a bar plot) showing the average happiness score for each region.\n",
    "\n",
    "Use matplotlib or seaborn for these plots. Remember to add labels and titles to make the charts understandable.\n",
    "\n",
    "**Hint:** For the bar charts, you can sort the data by score and use `sns.barplot`. For the scatter plot, try `sns.scatterplot`. Use `plt.hist` or `sns.histplot` for the distribution of scores. Always label your axes and add a title!"
   ]
  },
  {
   "cell_type": "code",
   "execution_count": null,
   "id": "e2fc0224",
   "metadata": {},
   "outputs": [],
   "source": [
    "# Bar chart of top 10 happiest countries\n",
    "top10 = happiness_df.sort_values('Happiness Score', ascending=False).head(10)\n",
    "\n",
    "plt.figure(figsize=(8,5))\n",
    "sns.barplot(x='Happiness Score', y='Country', data=top10, palette='Blues_r')\n",
    "plt.title('Top 10 Happiest Countries')\n",
    "plt.xlabel('Happiness Score')\n",
    "plt.ylabel('Country')\n",
    "plt.show()\n",
    "\n",
    "# TODO: Similarly, you can create a bar chart for the bottom 10 countries.\n"
   ]
  },
  {
   "cell_type": "code",
   "execution_count": null,
   "id": "4f5d5264",
   "metadata": {},
   "outputs": [],
   "source": [
    "# Histogram of Happiness Scores\n",
    "plt.figure(figsize=(6,4))\n",
    "plt.hist(happiness_df['Happiness Score'], bins=20, color='skyblue', edgecolor='black')\n",
    "plt.title('Distribution of Happiness Scores')\n",
    "plt.xlabel('Happiness Score')\n",
    "plt.ylabel('Number of Countries')\n",
    "plt.show()"
   ]
  },
  {
   "cell_type": "code",
   "execution_count": null,
   "id": "8a16f5b9",
   "metadata": {},
   "outputs": [],
   "source": [
    "# Scatter plot: GDP per Capita vs Happiness Score (as an example)\n",
    "# Replace 'GDP per Capita' with the exact column name in your dataset for GDP.\n",
    "plt.figure(figsize=(6,4))\n",
    "sns.scatterplot(x='Economy (GDP per Capita)', y='Happiness Score', data=happiness_df)\n",
    "plt.title('GDP per Capita vs Happiness Score')\n",
    "plt.xlabel('Economy (GDP per Capita)')\n",
    "plt.ylabel('Happiness Score')\n",
    "plt.show()\n",
    "\n",
    "# TODO: Try other scatter plots:\n",
    "# e.g., Social support vs Happiness Score, Life Expectancy vs Happiness Score, etc.\n",
    "# You can also use sns.regplot to add a regression line for trend.\n"
   ]
  },
  {
   "cell_type": "markdown",
   "id": "58e8e57a",
   "metadata": {},
   "source": [
    "## Step 6: Interpret and Report Findings\n",
    "\n",
    "You've now explored the data through various analyses and visualizations. The final step is to summarize your findings.\n",
    "\n",
    "**Tasks:**\n",
    "- Write a short summary of the insights you've gained from the analysis. Consider the following:\n",
    "  - Which countries are the happiest and which are the least happy? Are there any common characteristics among the top or bottom countries?\n",
    "  - What factors seem most strongly associated with happiness (from the correlation analysis)? Do richer countries tend to be happier? How about the influence of life expectancy, freedom, etc.?\n",
    "  - If you looked at multiple years, have happiness scores changed over time or remained relatively stable? Any notable trends or events that might explain changes?\n",
    "  - Any surprising findings or does the data largely fit expectations?\n",
    "- Make sure to reference your figures in your discussion (for example, \"As shown in the scatter plot of GDP vs Happiness, there is a positive correlation between wealth and happiness...\"). Include the charts or results from earlier as needed to support your points.\n",
    "\n",
    "This summary can be written in Markdown below, as if you were writing a report. Be clear and concise, and imagine you are explaining your findings to someone who is not familiar with the data. Use bullet points or bold text for emphasis where appropriate.\n",
    "\n",
    "*After completing your report, you have finished the project! Feel free to explore further or try additional questions with the data.*"
   ]
  }
 ],
 "metadata": {
  "kernelspec": {
   "display_name": "Python 3 (ipykernel)",
   "language": "python",
   "name": "python3"
  },
  "language_info": {
   "codemirror_mode": {
    "name": "ipython",
    "version": 3
   },
   "file_extension": ".py",
   "mimetype": "text/x-python",
   "name": "python",
   "nbconvert_exporter": "python",
   "pygments_lexer": "ipython3",
   "version": "3.11.7"
  }
 },
 "nbformat": 4,
 "nbformat_minor": 5
}
